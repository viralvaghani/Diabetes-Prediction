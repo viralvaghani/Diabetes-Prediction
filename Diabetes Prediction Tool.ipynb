{
 "cells": [
  {
   "cell_type": "markdown",
   "metadata": {},
   "source": [
    "# Diabetes Prediction Tool\n",
    "\n",
    "### Aim: \n",
    "The aim of this project is to process the data using pyspark and develop Diabetes Prediction Tool\n",
    "### Input\n",
    "1. rel.csv\n",
    "\n",
    "    In this dataset, each line is a pair of strings separated with comma, where each line\n",
    "    represents certain relations between two biomedical concepts in the Unified Medical Language System\n",
    "   (UMLS). Formally, each line can be represented as a concept pair (c1, c2)\n",
    "   \n",
    "   \n",
    "2. diabetes.csv\n",
    "\n",
    "    This dataset will be used for diabetes prediction. It consists of 9 variables (or features),\n",
    "    where the first 8 variables are predictor (independent) variables, and the last variable “Outcome” is the target\n",
    "    (dependent) variable we are going to predict (1 means the patient is diabetic, and 0 means not). Independent\n",
    "    variables include the number of pregnancies the patient has had, their BMI, insulin level, age, and so on\n",
    "\n",
    "### Output:\n",
    "Develop machine learning models that predict the diabetes"
   ]
  },
  {
   "cell_type": "code",
   "execution_count": 43,
   "metadata": {},
   "outputs": [],
   "source": [
    "#Import required libararies\n",
    "%config IPCompleter.use_jedi = False\n",
    "import pyspark\n",
    "import pyspark.mllib.stat as st\n",
    "import pyspark.ml.feature as ft\n",
    "import pyspark.sql.types as typ\n",
    "from pyspark.sql.types import IntegerType\n",
    "import pyspark.ml.classification as cl\n",
    "import pyspark.ml.tuning as tune\n",
    "\n",
    "from pyspark.ml import Pipeline\n",
    "\n",
    "import numpy as np\n",
    "import matplotlib.pyplot as plt\n",
    "from pyspark.sql import SparkSession\n",
    "\n",
    "spark = SparkSession.builder.getOrCreate()\n",
    "sc = spark.sparkContext\n"
   ]
  },
  {
   "cell_type": "code",
   "execution_count": 44,
   "metadata": {},
   "outputs": [
    {
     "data": {
      "text/html": [
       "\n",
       "        <div>\n",
       "            <p><b>SparkContext</b></p>\n",
       "\n",
       "            <p><a href=\"http://DESKTOP-JT1FVU3:4041\">Spark UI</a></p>\n",
       "\n",
       "            <dl>\n",
       "              <dt>Version</dt>\n",
       "                <dd><code>v2.4.7</code></dd>\n",
       "              <dt>Master</dt>\n",
       "                <dd><code>local[*]</code></dd>\n",
       "              <dt>AppName</dt>\n",
       "                <dd><code>PySparkShell</code></dd>\n",
       "            </dl>\n",
       "        </div>\n",
       "        "
      ],
      "text/plain": [
       "<SparkContext master=local[*] appName=PySparkShell>"
      ]
     },
     "execution_count": 44,
     "metadata": {},
     "output_type": "execute_result"
    }
   ],
   "source": [
    "#check the sparkcontext\n",
    "sc"
   ]
  },
  {
   "cell_type": "markdown",
   "metadata": {},
   "source": [
    "# Data Preparation"
   ]
  },
  {
   "cell_type": "markdown",
   "metadata": {},
   "source": [
    "### Prepare rel.csv dataset"
   ]
  },
  {
   "cell_type": "code",
   "execution_count": 25,
   "metadata": {},
   "outputs": [
    {
     "name": "stdout",
     "output_type": "stream",
     "text": [
      "+--------+--------+\n",
      "|     _c0|     _c1|\n",
      "+--------+--------+\n",
      "|C0005790|C0005778|\n",
      "+--------+--------+\n",
      "only showing top 1 row\n",
      "\n",
      "root\n",
      " |-- _c0: string (nullable = true)\n",
      " |-- _c1: string (nullable = true)\n",
      "\n"
     ]
    }
   ],
   "source": [
    "# Read CSV files\n",
    "rel_df=spark.read.csv(\"./data/rel.csv\",header=\"False\")\n",
    "\n",
    "#check dataframe\n",
    "rel_df.show(1)\n",
    "rel_df.printSchema()"
   ]
  },
  {
   "cell_type": "code",
   "execution_count": 26,
   "metadata": {},
   "outputs": [],
   "source": [
    "#Order the pair of string using lamda function and convert it to rdd\n",
    "rel_sorted=rel_df.rdd.map(lambda x: sorted (x))"
   ]
  },
  {
   "cell_type": "code",
   "execution_count": 27,
   "metadata": {},
   "outputs": [
    {
     "data": {
      "text/plain": [
       "[['C0005778', 'C0005790'],\n",
       " ['C1255279', 'C3537249'],\n",
       " ['C0002520', 'C1255446'],\n",
       " ['C0596019', 'C1255552'],\n",
       " ['C0004611', 'C1254417']]"
      ]
     },
     "execution_count": 27,
     "metadata": {},
     "output_type": "execute_result"
    }
   ],
   "source": [
    "#check first 5 values\n",
    "rel_sorted.take(5)"
   ]
  },
  {
   "cell_type": "code",
   "execution_count": 29,
   "metadata": {},
   "outputs": [],
   "source": [
    "#Convert rel_sorted to df again\n",
    "df_rel=rel_sorted.toDF()"
   ]
  },
  {
   "cell_type": "code",
   "execution_count": 30,
   "metadata": {},
   "outputs": [
    {
     "name": "stdout",
     "output_type": "stream",
     "text": [
      "root\n",
      " |-- _1: string (nullable = true)\n",
      " |-- _2: string (nullable = true)\n",
      "\n",
      "+--------+--------+\n",
      "|      _1|      _2|\n",
      "+--------+--------+\n",
      "|C0005778|C0005790|\n",
      "|C1255279|C3537249|\n",
      "+--------+--------+\n",
      "only showing top 2 rows\n",
      "\n"
     ]
    }
   ],
   "source": [
    "#Check schema\n",
    "df_rel.printSchema()\n",
    "\n",
    "#Check first 2 rows\n",
    "df_rel.show(2)"
   ]
  },
  {
   "cell_type": "code",
   "execution_count": 35,
   "metadata": {},
   "outputs": [],
   "source": [
    "#ordered pair count\n",
    "count_rel_pairs=df_rel.groupBy([\"_1\",\"_2\"]).count()\n",
    "\n",
    "#use orderby function\n",
    "rel_pairs=count_rel_pairs.orderBy([\"_1\",\"_2\"], ascending=True)"
   ]
  },
  {
   "cell_type": "code",
   "execution_count": 40,
   "metadata": {},
   "outputs": [
    {
     "name": "stdout",
     "output_type": "stream",
     "text": [
      "+--------+--------+-----+\n",
      "|      _1|      _2|count|\n",
      "+--------+--------+-----+\n",
      "|C0000005|C0036775|    4|\n",
      "|C0000039|C0000039|   22|\n",
      "|C0000039|C0001555|    2|\n",
      "|C0000039|C0001688|    2|\n",
      "|C0000039|C0002776|    2|\n",
      "|C0000039|C0003139|    2|\n",
      "|C0000039|C0005572|    2|\n",
      "|C0000039|C0005768|    2|\n",
      "|C0000039|C0007807|    2|\n",
      "|C0000039|C0007987|    2|\n",
      "|C0000039|C0008903|    2|\n",
      "|C0000039|C0011933|    2|\n",
      "|C0000039|C0012456|   22|\n",
      "|C0000039|C0013557|    2|\n",
      "|C0000039|C0017399|    2|\n",
      "|C0000039|C0019665|    2|\n",
      "|C0000039|C0022189|    2|\n",
      "|C0000039|C0025520|    2|\n",
      "|C0000039|C0031328|    2|\n",
      "|C0000039|C0031610|    4|\n",
      "+--------+--------+-----+\n",
      "only showing top 20 rows\n",
      "\n"
     ]
    }
   ],
   "source": [
    "#show instance of each ordered pair\n",
    "rel_pairs.show()"
   ]
  },
  {
   "cell_type": "code",
   "execution_count": 41,
   "metadata": {},
   "outputs": [],
   "source": [
    "import shutil\n",
    "\n",
    "filePath = 'pair-count.txt'\n",
    "# remove dir and subdirectories if filePath exists\n",
    "if os.path.exists(filePath):\n",
    "    shutil.rmtree(filePath) \n",
    "\n",
    "rel_pairs.rdd.saveAsTextFile( filePath )"
   ]
  },
  {
   "cell_type": "code",
   "execution_count": 47,
   "metadata": {},
   "outputs": [],
   "source": [
    "rel_pairs.rdd.map(lambda a:str(a[0] + \"\\t\" + str (a[1])+ \"\\t\" +str(a[2])))\\\n",
    ".saveAsTextFile(\"pair-count.txt1\")"
   ]
  },
  {
   "cell_type": "markdown",
   "metadata": {},
   "source": [
    "###  Count the total number of ordered pairs, that is, how many unique ordered pairs are obtained"
   ]
  },
  {
   "cell_type": "code",
   "execution_count": 39,
   "metadata": {},
   "outputs": [
    {
     "name": "stdout",
     "output_type": "stream",
     "text": [
      "Total number of ordered pairs: 12946540\n"
     ]
    }
   ],
   "source": [
    "print('Total number of ordered pairs: {0}'.format(rel_pairs.count()))"
   ]
  },
  {
   "cell_type": "markdown",
   "metadata": {},
   "source": [
    "### diabetes.csv dataset"
   ]
  },
  {
   "cell_type": "code",
   "execution_count": 43,
   "metadata": {},
   "outputs": [],
   "source": [
    "import pyspark\n",
    "import pyspark.mllib.stat as st\n",
    "import pyspark.ml.feature as ft\n",
    "import pyspark.sql.types as typ\n",
    "import pyspark.ml.classification as cl\n",
    "import pyspark.ml.tuning as tune\n",
    "from pyspark.ml.feature import OneHotEncoder\n",
    "from pyspark.ml import Pipeline\n",
    "\n",
    "import numpy as np\n",
    "import matplotlib.pyplot as plt\n",
    "from pyspark.sql import SparkSession\n",
    "\n",
    "spark = SparkSession.builder.getOrCreate()\n",
    "sc = spark.sparkContext"
   ]
  },
  {
   "cell_type": "code",
   "execution_count": 44,
   "metadata": {},
   "outputs": [
    {
     "name": "stdout",
     "output_type": "stream",
     "text": [
      "+-----------+-------+-------------+-------------+-------+----+------------------------+---+-------+\n",
      "|Pregnancies|Glucose|BloodPressure|SkinThickness|Insulin| BMI|DiabetesPedigreeFunction|Age|Outcome|\n",
      "+-----------+-------+-------------+-------------+-------+----+------------------------+---+-------+\n",
      "|          6|    148|           72|           35|      0|33.6|                   0.627| 50|      1|\n",
      "|          1|     85|           66|           29|      0|26.6|                   0.351| 31|      0|\n",
      "|          8|    183|           64|            0|      0|23.3|                   0.672| 32|      1|\n",
      "|          1|     89|           66|           23|     94|28.1|                   0.167| 21|      0|\n",
      "|          0|    137|           40|           35|    168|43.1|                   2.288| 33|      1|\n",
      "+-----------+-------+-------------+-------------+-------+----+------------------------+---+-------+\n",
      "only showing top 5 rows\n",
      "\n"
     ]
    }
   ],
   "source": [
    "# Read CSV files\n",
    "df=spark.read.csv(\"./data/diabetes.csv\",header=\"true\")\n",
    "\n",
    "#check dataframe\n",
    "df.show(5)"
   ]
  },
  {
   "cell_type": "code",
   "execution_count": 45,
   "metadata": {},
   "outputs": [
    {
     "name": "stdout",
     "output_type": "stream",
     "text": [
      "Number of rows: 768\n"
     ]
    }
   ],
   "source": [
    "#Count number of rows in dataframe\n",
    "print(f'Number of rows: {df.count()}')"
   ]
  },
  {
   "cell_type": "code",
   "execution_count": 46,
   "metadata": {},
   "outputs": [
    {
     "name": "stdout",
     "output_type": "stream",
     "text": [
      "root\n",
      " |-- Pregnancies: string (nullable = true)\n",
      " |-- Glucose: string (nullable = true)\n",
      " |-- BloodPressure: string (nullable = true)\n",
      " |-- SkinThickness: string (nullable = true)\n",
      " |-- Insulin: string (nullable = true)\n",
      " |-- BMI: string (nullable = true)\n",
      " |-- DiabetesPedigreeFunction: string (nullable = true)\n",
      " |-- Age: string (nullable = true)\n",
      " |-- Outcome: string (nullable = true)\n",
      "\n"
     ]
    }
   ],
   "source": [
    "#Check schema of dataframe\n",
    "df.printSchema()"
   ]
  },
  {
   "cell_type": "code",
   "execution_count": 47,
   "metadata": {},
   "outputs": [],
   "source": [
    "# Load data providing a schema and convert datatype to integer or float\n",
    "\n",
    "labels = [\n",
    "    ('Pregnancies', typ.IntegerType()),\n",
    "    ('Glucose', typ.StringType()),\n",
    "    ('BloodPressure', typ.IntegerType()),\n",
    "    ('SkinThickness', typ.IntegerType()),\n",
    "    ('Insulin', typ.IntegerType()),\n",
    "    ('BMI', typ.FloatType()),\n",
    "    ('DiabetesPedigreeFunction', typ.FloatType()),\n",
    "    ('Age', typ.IntegerType()),\n",
    "    ('Outcome', typ.IntegerType()),\n",
    "]\n",
    "\n",
    "schema = typ.StructType([\n",
    "    typ.StructField(e[0], e[1], False) for e in labels\n",
    "])\n",
    "\n",
    "dm_df = spark.read.csv('./assignment3-data/data/diabetes.csv', \n",
    "                        header=True, \n",
    "                        schema=schema)"
   ]
  },
  {
   "cell_type": "code",
   "execution_count": 48,
   "metadata": {},
   "outputs": [
    {
     "name": "stdout",
     "output_type": "stream",
     "text": [
      "root\n",
      " |-- Pregnancies: integer (nullable = true)\n",
      " |-- Glucose: string (nullable = true)\n",
      " |-- BloodPressure: integer (nullable = true)\n",
      " |-- SkinThickness: integer (nullable = true)\n",
      " |-- Insulin: integer (nullable = true)\n",
      " |-- BMI: float (nullable = true)\n",
      " |-- DiabetesPedigreeFunction: float (nullable = true)\n",
      " |-- Age: integer (nullable = true)\n",
      " |-- Outcome: integer (nullable = true)\n",
      "\n"
     ]
    }
   ],
   "source": [
    "#Check schema after data type change\n",
    "dm_df.printSchema()"
   ]
  },
  {
   "cell_type": "code",
   "execution_count": 49,
   "metadata": {},
   "outputs": [
    {
     "data": {
      "text/plain": [
       "[('Pregnancies', 'int'),\n",
       " ('Glucose', 'int'),\n",
       " ('BloodPressure', 'int'),\n",
       " ('SkinThickness', 'int'),\n",
       " ('Insulin', 'int'),\n",
       " ('BMI', 'float'),\n",
       " ('DiabetesPedigreeFunction', 'float'),\n",
       " ('Age', 'int'),\n",
       " ('Outcome', 'int')]"
      ]
     },
     "execution_count": 49,
     "metadata": {},
     "output_type": "execute_result"
    }
   ],
   "source": [
    "# cast a column to a new type after loading the data\n",
    "\n",
    "dm_df = dm_df \\\n",
    "    .withColumn('Glucose', \n",
    "                dm_df['Glucose'] \\\n",
    "                    .cast(typ.IntegerType()))\n",
    "\n",
    "dm_df.dtypes"
   ]
  },
  {
   "cell_type": "code",
   "execution_count": 50,
   "metadata": {},
   "outputs": [
    {
     "name": "stdout",
     "output_type": "stream",
     "text": [
      "+-----------+-------+-------------+-------------+-------+----+------------------------+---+-------+\n",
      "|Pregnancies|Glucose|BloodPressure|SkinThickness|Insulin| BMI|DiabetesPedigreeFunction|Age|Outcome|\n",
      "+-----------+-------+-------------+-------------+-------+----+------------------------+---+-------+\n",
      "|          6|    148|           72|           35|      0|33.6|                   0.627| 50|      1|\n",
      "|          1|     85|           66|           29|      0|26.6|                   0.351| 31|      0|\n",
      "+-----------+-------+-------------+-------------+-------+----+------------------------+---+-------+\n",
      "only showing top 2 rows\n",
      "\n"
     ]
    }
   ],
   "source": [
    "#Check columns\n",
    "dm_df.show(2)"
   ]
  },
  {
   "cell_type": "markdown",
   "metadata": {},
   "source": [
    "### Step 1  Remove the rows where the “BloodPressure”, “BMI” and “Glucose” columns are zero"
   ]
  },
  {
   "cell_type": "code",
   "execution_count": 51,
   "metadata": {},
   "outputs": [
    {
     "name": "stdout",
     "output_type": "stream",
     "text": [
      "Number of rows where BloodPressure,Glucose, and BMI dont have zero value: 724\n"
     ]
    }
   ],
   "source": [
    "#Fiter values\n",
    "final_df=dm_df.filter((dm_df.BloodPressure >0) & (dm_df.Glucose > 0) & (dm_df.BMI >0))\n",
    "\n",
    "#Print number of rows where Bloodpressure, glucose, and BMI don't have zero values\n",
    "print('Number of rows where BloodPressure,Glucose, and BMI dont have zero value: {0}'.format(final_df.count()))"
   ]
  },
  {
   "cell_type": "code",
   "execution_count": 52,
   "metadata": {},
   "outputs": [
    {
     "name": "stdout",
     "output_type": "stream",
     "text": [
      "+-------+------------------+------------------+-----------------+\n",
      "|summary|     BloodPressure|           Glucose|              BMI|\n",
      "+-------+------------------+------------------+-----------------+\n",
      "|  count|               724|               724|              724|\n",
      "|   mean| 72.40055248618785|121.88259668508287|32.46712707814591|\n",
      "| stddev|12.379870321719064|30.750029983865353|6.888940896003464|\n",
      "|    min|                24|                44|             18.2|\n",
      "|    max|               122|               199|             67.1|\n",
      "+-------+------------------+------------------+-----------------+\n",
      "\n"
     ]
    }
   ],
   "source": [
    "#Check the summary of all three columns\n",
    "final_df.select(\"BloodPressure\", \"Glucose\", \"BMI\").describe().show()"
   ]
  },
  {
   "cell_type": "markdown",
   "metadata": {},
   "source": [
    "###  Step 2  Convert the categorical column “Pregnancies” into one-hot encoding."
   ]
  },
  {
   "cell_type": "code",
   "execution_count": 77,
   "metadata": {},
   "outputs": [],
   "source": [
    "from pyspark.ml.feature import VectorAssembler\n",
    "from pyspark.ml.feature import StringIndexer\n",
    "from pyspark.ml.feature import OneHotEncoderEstimator"
   ]
  },
  {
   "cell_type": "code",
   "execution_count": 73,
   "metadata": {},
   "outputs": [
    {
     "name": "stdout",
     "output_type": "stream",
     "text": [
      "+-----------+-------+-------------+-------------+-------+----+------------------------+---+-------+----------------+\n",
      "|Pregnancies|Glucose|BloodPressure|SkinThickness|Insulin| BMI|DiabetesPedigreeFunction|Age|Outcome|PregnanciesIndex|\n",
      "+-----------+-------+-------------+-------------+-------+----+------------------------+---+-------+----------------+\n",
      "|          6|    148|           72|           35|      0|33.6|                   0.627| 50|      1|             6.0|\n",
      "|          1|     85|           66|           29|      0|26.6|                   0.351| 31|      0|             0.0|\n",
      "+-----------+-------+-------------+-------------+-------+----+------------------------+---+-------+----------------+\n",
      "only showing top 2 rows\n",
      "\n"
     ]
    }
   ],
   "source": [
    "preg_indexer=StringIndexer(inputCol=\"Pregnancies\", \n",
    "    outputCol=\"PregnanciesIndex\")\n",
    "\n",
    "df13=preg_indexer.fit(final_df).transform(final_df)\n",
    "df13.show(2)\n"
   ]
  },
  {
   "cell_type": "code",
   "execution_count": 89,
   "metadata": {},
   "outputs": [],
   "source": [
    "encoders = OneHotEncoderEstimator(\n",
    "    inputCols=[\"Pregnancies\"], \n",
    "    outputCols=[\"Pregnancies_VEC\"])"
   ]
  },
  {
   "cell_type": "code",
   "execution_count": 90,
   "metadata": {},
   "outputs": [
    {
     "name": "stdout",
     "output_type": "stream",
     "text": [
      "+-----------+-------+-------------+-------------+-------+----+------------------------+---+-------+----------------+---------------+\n",
      "|Pregnancies|Glucose|BloodPressure|SkinThickness|Insulin| BMI|DiabetesPedigreeFunction|Age|Outcome|PregnanciesIndex|Pregnancies_VEC|\n",
      "+-----------+-------+-------------+-------------+-------+----+------------------------+---+-------+----------------+---------------+\n",
      "|          6|    148|           72|           35|      0|33.6|                   0.627| 50|      1|             6.0| (17,[6],[1.0])|\n",
      "|          1|     85|           66|           29|      0|26.6|                   0.351| 31|      0|             0.0| (17,[1],[1.0])|\n",
      "+-----------+-------+-------------+-------------+-------+----+------------------------+---+-------+----------------+---------------+\n",
      "only showing top 2 rows\n",
      "\n"
     ]
    }
   ],
   "source": [
    "dmModel=encoders.fit(df13)\n",
    "preganciesTr=dmModel.transform(df13)\n",
    "preganciesTr.show(2)"
   ]
  },
  {
   "cell_type": "markdown",
   "metadata": {},
   "source": [
    "###  Step 3  Create a single column with all the features collated together using VectorAssembler."
   ]
  },
  {
   "cell_type": "code",
   "execution_count": 91,
   "metadata": {},
   "outputs": [],
   "source": [
    "inputCols=[\n",
    "        \"Glucose\" ,\n",
    "        \"BloodPressure\",\n",
    "        \"SkinThickness\",\n",
    "        \"Insulin\",\n",
    "        \"BMI\",\n",
    "        \"DiabetesPedigreeFunction\",\n",
    "        \"Age\",\n",
    "        \"Pregnancies_VEC\"\n",
    "      ]\n",
    "outputCol ='features'\n",
    "featuresCreator = ft.VectorAssembler (inputCols=inputCols, outputCol=outputCol)"
   ]
  },
  {
   "cell_type": "code",
   "execution_count": 92,
   "metadata": {},
   "outputs": [
    {
     "data": {
      "text/plain": [
       "[Row(Pregnancies=6, Glucose=148, BloodPressure=72, SkinThickness=35, Insulin=0, BMI=33.599998474121094, DiabetesPedigreeFunction=0.6269999742507935, Age=50, Outcome=1, PregnanciesIndex=6.0, Pregnancies_VEC=SparseVector(17, {6: 1.0}), features=SparseVector(24, {0: 148.0, 1: 72.0, 2: 35.0, 4: 33.6, 5: 0.627, 6: 50.0, 13: 1.0})),\n",
       " Row(Pregnancies=1, Glucose=85, BloodPressure=66, SkinThickness=29, Insulin=0, BMI=26.600000381469727, DiabetesPedigreeFunction=0.35100001096725464, Age=31, Outcome=0, PregnanciesIndex=0.0, Pregnancies_VEC=SparseVector(17, {1: 1.0}), features=SparseVector(24, {0: 85.0, 1: 66.0, 2: 29.0, 4: 26.6, 5: 0.351, 6: 31.0, 8: 1.0}))]"
      ]
     },
     "execution_count": 92,
     "metadata": {},
     "output_type": "execute_result"
    }
   ],
   "source": [
    "res = featuresCreator.transform(preganciesTr).take(2)\n",
    "res"
   ]
  },
  {
   "cell_type": "code",
   "execution_count": 93,
   "metadata": {},
   "outputs": [
    {
     "data": {
      "text/plain": [
       "SparseVector(24, {0: 148.0, 1: 72.0, 2: 35.0, 4: 33.6, 5: 0.627, 6: 50.0, 13: 1.0})"
      ]
     },
     "execution_count": 93,
     "metadata": {},
     "output_type": "execute_result"
    }
   ],
   "source": [
    "res[0][-1]"
   ]
  },
  {
   "cell_type": "markdown",
   "metadata": {},
   "source": [
    "### Step 4 Random split the collated data into training (70%) and testing (30%) datasets and use 2017 as the seed. "
   ]
  },
  {
   "cell_type": "code",
   "execution_count": 94,
   "metadata": {},
   "outputs": [],
   "source": [
    "dm_train, dm_test = final_df \\\n",
    "    .randomSplit([0.7, 0.3], seed=2017)"
   ]
  },
  {
   "cell_type": "markdown",
   "metadata": {},
   "source": [
    "### Step 5  Implement a random forest classifier and specify the number of decision trees as 20. "
   ]
  },
  {
   "cell_type": "code",
   "execution_count": 95,
   "metadata": {},
   "outputs": [],
   "source": [
    "import pyspark.sql.functions as func\n",
    "\n",
    "final_df = final_df.withColumn(\n",
    "    'Outcome', \n",
    "    func.col('Outcome').cast(typ.DoubleType())\n",
    ")\n",
    "\n",
    "dm_train, dm_test = final_df \\\n",
    "    .randomSplit([0.7, 0.3], seed=2017)"
   ]
  },
  {
   "cell_type": "code",
   "execution_count": 97,
   "metadata": {},
   "outputs": [],
   "source": [
    "classifier = cl.RandomForestClassifier(\n",
    "    numTrees=20, \n",
    "    maxDepth=5, \n",
    "    labelCol='Outcome')\n",
    "\n",
    "pipeline = Pipeline(\n",
    "    stages=[\n",
    "        encoders,\n",
    "        featuresCreator, \n",
    "        classifier])\n",
    "\n",
    "model = pipeline.fit(dm_train)\n",
    "test = model.transform(dm_test)"
   ]
  },
  {
   "cell_type": "code",
   "execution_count": 98,
   "metadata": {},
   "outputs": [
    {
     "data": {
      "text/plain": [
       "[Row(Pregnancies=0, Glucose=67, BloodPressure=76, SkinThickness=0, Insulin=0, BMI=45.29999923706055, DiabetesPedigreeFunction=0.1940000057220459, Age=46, Outcome=0.0, Pregnancies_VEC=SparseVector(17, {0: 1.0}), features=SparseVector(24, {0: 67.0, 1: 76.0, 4: 45.3, 5: 0.194, 6: 46.0, 7: 1.0}), rawPrediction=DenseVector([16.301, 3.699]), probability=DenseVector([0.8151, 0.1849]), prediction=0.0)]"
      ]
     },
     "execution_count": 98,
     "metadata": {},
     "output_type": "execute_result"
    }
   ],
   "source": [
    "test.take(1)"
   ]
  },
  {
   "cell_type": "markdown",
   "metadata": {},
   "source": [
    "#### Model performance "
   ]
  },
  {
   "cell_type": "code",
   "execution_count": 99,
   "metadata": {},
   "outputs": [
    {
     "name": "stdout",
     "output_type": "stream",
     "text": [
      "AuROC 0.8638709677419356\n",
      "AuPR 0.7650261402900278\n"
     ]
    }
   ],
   "source": [
    "import pyspark.ml.evaluation as ev\n",
    "\n",
    "evaluator = ev.BinaryClassificationEvaluator(\n",
    "    rawPredictionCol='probability', \n",
    "    labelCol='Outcome')\n",
    "\n",
    "print('AuROC', evaluator.evaluate(test, \n",
    "     {evaluator.metricName: 'areaUnderROC'}))\n",
    "print('AuPR', evaluator.evaluate(test, {evaluator.metricName: 'areaUnderPR'}))"
   ]
  },
  {
   "cell_type": "markdown",
   "metadata": {},
   "source": [
    "### Step 6  Evaluate the performance of the random forest classifier using the ROC curve metric. "
   ]
  },
  {
   "cell_type": "code",
   "execution_count": 100,
   "metadata": {},
   "outputs": [
    {
     "data": {
      "text/plain": [
       "[Row(probability=DenseVector([0.8151, 0.1849]), Outcome=0.0),\n",
       " Row(probability=DenseVector([0.8686, 0.1314]), Outcome=0.0),\n",
       " Row(probability=DenseVector([0.8365, 0.1635]), Outcome=0.0),\n",
       " Row(probability=DenseVector([0.8408, 0.1592]), Outcome=0.0),\n",
       " Row(probability=DenseVector([0.862, 0.138]), Outcome=0.0)]"
      ]
     },
     "execution_count": 100,
     "metadata": {},
     "output_type": "execute_result"
    }
   ],
   "source": [
    "import sklearn.metrics as sk_me\n",
    "\n",
    "test.select('probability','Outcome').take(5)"
   ]
  },
  {
   "cell_type": "code",
   "execution_count": 101,
   "metadata": {},
   "outputs": [
    {
     "data": {
      "image/png": "[encoded data removed]",
      "text/plain": [
       "<Figure size 360x360 with 1 Axes>"
      ]
     },
     "metadata": {
      "needs_background": "light"
     },
     "output_type": "display_data"
    }
   ],
   "source": [
    "probArr = test.select('probability','Outcome') \\\n",
    "                    .rdd \\\n",
    "                    .map( lambda row: [row[0][1], row[1]] ).collect()\n",
    "probArr = np.array(probArr)\n",
    "\n",
    "fpr, tpr, thresholds = sk_me.roc_curve( probArr[:,1], probArr[:,0], pos_label=1)\n",
    "roc_auc = sk_me.auc(fpr, tpr)\n",
    "\n",
    "plt.figure(figsize=(5,5))\n",
    "plt.plot(fpr, tpr, label='ROC curve (area = {:0.2f})'.format(roc_auc))\n",
    "plt.plot([0, 1], [0, 1], 'k--')\n",
    "plt.xlim([0.0, 1.0])\n",
    "plt.ylim([0.0, 1.05])\n",
    "plt.xlabel('False Positive Rate')\n",
    "plt.ylabel('True Positive Rate')\n",
    "plt.title('ROC Curve')\n",
    "plt.legend(loc=\"lower right\")\n",
    "plt.show()"
   ]
  }
 ],
 "metadata": {
  "kernelspec": {
   "display_name": "Python 3 (ipykernel)",
   "language": "python",
   "name": "python3"
  },
  "language_info": {
   "codemirror_mode": {
    "name": "ipython",
    "version": 3
   },
   "file_extension": ".py",
   "mimetype": "text/x-python",
   "name": "python",
   "nbconvert_exporter": "python",
   "pygments_lexer": "ipython3",
   "version": "3.7.15"
  }
 },
 "nbformat": 4,
 "nbformat_minor": 4
}
